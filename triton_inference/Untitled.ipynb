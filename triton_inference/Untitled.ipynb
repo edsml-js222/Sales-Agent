{
 "cells": [
  {
   "cell_type": "code",
   "execution_count": 13,
   "id": "efb6aa74-273a-4973-865f-c9ae2ebf3572",
   "metadata": {},
   "outputs": [],
   "source": [
    "from get_llm_res import get_llm_res\n",
    "import json\n",
    "def get_intention_level(user_history):\n",
    "    prompt = f\"\"\"\n",
    "    需要你根据用户跟智能客服沟通过程中的所有输入的文本内容，判断这个用户留下个人信息的意向等级为高或者低。如果用户输入的文本内容中有姓名和联系方式，则认为用户的意向等级为高，否则认为用户的意向等级为低。请你先思考你做出判断的原因，然后给出你的判断。\n",
    "    用户输入的文本内容为：{user_history}\n",
    "    输出格式为: {{\"intention_level\": \"高\" or \"低\", \"intention_level_clue\": \"判断依据\"}}\n",
    "\n",
    "    示例:\n",
    "    用户输入: [{{\"user\": \"你好\"}}, {{\"user\": \"有没有瘦脸相关的\"}}, {{\"user\": \"行吧，你们哪里有店？\"}}, {{\"user\": \"我姓张, 12383295731\"}}]\n",
    "    输出: {{\"intention_level\": \"高\", \"intention_level_clue\": \"用户在最后输入了姓名和联系方式\"}}\n",
    "\n",
    "    用户输入: [{{\"user\": \"你好啊\"}}, {{\"user\": \"想问问皮肤有关的项目\"}}, {{\"user\": \"我能约个线下来体验一下吗\"}}, {{\"user\": \"姓李\"}}]\n",
    "    输出: {{\"intention_level\": \"低\", \"intention_level_clue\": \"用户只提供了姓氏，没有提供联系方式\"}}\n",
    "\n",
    "    用户输入: [{{\"user\": \"你们这里有什么项目\"}}, {{\"user\": \"我第一次做医美，没什么经验，主要想体验一下\"}}, {{\"user\": \"行，那你先加下我微信，微信聊\"}}, {{\"user\": \"1823754182\"}}]\n",
    "    输出: {{\"intention_level\": \"低\", \"intention_level_clue\": \"用户只提供了联系方式, 没有提供姓名\"}}\n",
    "    \"\"\"\n",
    "    messages = [{\"role\": \"user\", \"content\": prompt}]\n",
    "    intention_result, _, _ = get_llm_res(messages, model_name='gpt-4o-mini')\n",
    "    return json.loads(intention_result)\n",
    "\n",
    "user_history = [{\"user\": \"你好\"}, {\"user\": \"有没有瘦脸相关的\"}, {\"user\": \"行吧，你们哪里有店？\"}, {\"user\": \"我姓张, 12383295731\"}]\n",
    "res = get_intention_level(user_history)"
   ]
  },
  {
   "cell_type": "code",
   "execution_count": 14,
   "id": "8b7c5215-b844-4348-8ba3-2649e50be074",
   "metadata": {},
   "outputs": [
    {
     "data": {
      "text/plain": [
       "{'intention_level': '高', 'intention_level_clue': '用户在最后输入了姓名和联系方式'}"
      ]
     },
     "execution_count": 14,
     "metadata": {},
     "output_type": "execute_result"
    }
   ],
   "source": [
    "res"
   ]
  }
 ],
 "metadata": {
  "kernelspec": {
   "display_name": "sjj_kernel",
   "language": "python",
   "name": "sjj"
  },
  "language_info": {
   "codemirror_mode": {
    "name": "ipython",
    "version": 3
   },
   "file_extension": ".py",
   "mimetype": "text/x-python",
   "name": "python",
   "nbconvert_exporter": "python",
   "pygments_lexer": "ipython3",
   "version": "3.11.10"
  }
 },
 "nbformat": 4,
 "nbformat_minor": 5
}
