{
 "cells": [
  {
   "cell_type": "code",
   "execution_count": 5,
   "metadata": {},
   "outputs": [
    {
     "name": "stderr",
     "output_type": "stream",
     "text": [
      "/home/enbrands/miniconda3/envs/xiao/lib/python3.8/site-packages/requests/__init__.py:102: RequestsDependencyWarning: urllib3 (1.26.14) or chardet (5.2.0)/charset_normalizer (2.0.4) doesn't match a supported version!\n",
      "  warnings.warn(\"urllib3 ({}) or chardet ({})/charset_normalizer ({}) doesn't match a supported \"\n"
     ]
    }
   ],
   "source": [
    "import requests\n",
    "import json"
   ]
  },
  {
   "cell_type": "markdown",
   "metadata": {},
   "source": [
    "# 测试话术存储模块"
   ]
  },
  {
   "cell_type": "code",
   "execution_count": 9,
   "metadata": {},
   "outputs": [],
   "source": [
    "url = \"http://121.201.110.83:30504/sales_template_store\"\n",
    "post_data = {\n",
    "    \"industry_id\": \"教育\",\n",
    "    \"template_id\": \"英语\",\n",
    "    \"template_content\": \"英语项目模版\"\n",
    "}\n",
    "json_post_data = json.dumps(post_data)\n",
    "response = requests.post(url, data=json_post_data)\n"
   ]
  },
  {
   "cell_type": "code",
   "execution_count": 10,
   "metadata": {},
   "outputs": [
    {
     "data": {
      "text/plain": [
       "{'status': 200, 'msg': 'success'}"
      ]
     },
     "execution_count": 10,
     "metadata": {},
     "output_type": "execute_result"
    }
   ],
   "source": [
    "response.json()"
   ]
  },
  {
   "cell_type": "markdown",
   "metadata": {},
   "source": [
    "# 测试模型回复模块"
   ]
  },
  {
   "cell_type": "code",
   "execution_count": 21,
   "metadata": {},
   "outputs": [],
   "source": [
    "url = \"http://121.201.110.83:30504/model_reply\"\n",
    "post_data = {\n",
    "    \"industry_id\": \"医美\",\n",
    "    \"template_id\": \"project_1\",\n",
    "    \"chat_id\": \"test_1\",\n",
    "    \"user_input\": \"想问问皮肤相关的有啥项目\"\n",
    "}\n",
    "json_post_data = json.dumps(post_data)\n",
    "response = requests.post(url, data=json_post_data)\n"
   ]
  },
  {
   "cell_type": "code",
   "execution_count": 22,
   "metadata": {},
   "outputs": [
    {
     "data": {
      "text/plain": [
       "{'status': 200,\n",
       " 'msg': 'Model reply success',\n",
       " 'model_reply': '{\"customer_intention\": \"客户想了解皮肤相关的医美项目\", \"reply\": \"您好！很高兴您对皮肤相关的项目感兴趣。我们提供多种皮肤护理和改善的方案，比如水光针、激光美容、化学换肤、微针美容等。每个项目都有其独特的效果和适应人群，您可以告诉我您的具体需求，比如想改善的皮肤问题，我会为您推荐最合适的项目。期待您的回复！\"}',\n",
       " 'input_tokens': 256,\n",
       " 'output_tokens': 111}"
      ]
     },
     "execution_count": 22,
     "metadata": {},
     "output_type": "execute_result"
    }
   ],
   "source": [
    "response.json()"
   ]
  }
 ],
 "metadata": {
  "kernelspec": {
   "display_name": "xiao",
   "language": "python",
   "name": "xiao"
  },
  "language_info": {
   "codemirror_mode": {
    "name": "ipython",
    "version": 3
   },
   "file_extension": ".py",
   "mimetype": "text/x-python",
   "name": "python",
   "nbconvert_exporter": "python",
   "pygments_lexer": "ipython3",
   "version": "3.8.16"
  }
 },
 "nbformat": 4,
 "nbformat_minor": 4
}
