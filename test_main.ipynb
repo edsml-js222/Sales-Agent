{
 "cells": [
  {
   "cell_type": "code",
   "execution_count": 15,
   "metadata": {},
   "outputs": [
    {
     "name": "stderr",
     "output_type": "stream",
     "text": [
      "/home/enbrands/miniconda3/envs/xiao/lib/python3.8/site-packages/requests/__init__.py:102: RequestsDependencyWarning: urllib3 (1.26.14) or chardet (5.2.0)/charset_normalizer (2.0.4) doesn't match a supported version!\n",
      "  warnings.warn(\"urllib3 ({}) or chardet ({})/charset_normalizer ({}) doesn't match a supported \"\n"
     ]
    }
   ],
   "source": [
    "import requests\n",
    "import json"
   ]
  },
  {
   "cell_type": "markdown",
   "metadata": {},
   "source": [
    "# 测试话术存储模块"
   ]
  },
  {
   "cell_type": "code",
   "execution_count": 18,
   "metadata": {},
   "outputs": [],
   "source": [
    "url = \"http://121.201.110.83:30504/sales_template_save\"\n",
    "post_data = {\n",
    "    \"industry_id\": \"默认\",\n",
    "    \"template_id\": \"默认\",\n",
    "    \"template_content\": \"默认销售\"\n",
    "}\n",
    "json_post_data = json.dumps(post_data)\n",
    "response = requests.post(url, data=json_post_data)\n"
   ]
  },
  {
   "cell_type": "code",
   "execution_count": 19,
   "metadata": {},
   "outputs": [
    {
     "data": {
      "text/plain": [
       "{'status': 200, 'msg': 'success'}"
      ]
     },
     "execution_count": 19,
     "metadata": {},
     "output_type": "execute_result"
    }
   ],
   "source": [
    "response.json()"
   ]
  },
  {
   "cell_type": "markdown",
   "metadata": {},
   "source": [
    "# 测试模型回复模块"
   ]
  },
  {
   "cell_type": "code",
   "execution_count": 21,
   "metadata": {},
   "outputs": [],
   "source": [
    "url = \"http://121.201.110.83:30504/model_reply\"\n",
    "post_data = {\n",
    "    \"industry_id\": \"医美\",\n",
    "    \"template_id\": \"project_1\",\n",
    "    \"chat_id\": \"test_1\",\n",
    "    \"user_input\": \"想问问皮肤相关的有啥项目\"\n",
    "}\n",
    "json_post_data = json.dumps(post_data)\n",
    "response = requests.post(url, data=json_post_data)\n"
   ]
  },
  {
   "cell_type": "code",
   "execution_count": 22,
   "metadata": {},
   "outputs": [
    {
     "data": {
      "text/plain": [
       "{'status': 200,\n",
       " 'msg': 'Model reply success',\n",
       " 'model_reply': '{\"customer_intention\": \"客户想了解皮肤相关的医美项目\", \"reply\": \"您好！很高兴您对皮肤相关的项目感兴趣。我们提供多种皮肤护理和改善的方案，比如水光针、激光美容、化学换肤、微针美容等。每个项目都有其独特的效果和适应人群，您可以告诉我您的具体需求，比如想改善的皮肤问题，我会为您推荐最合适的项目。期待您的回复！\"}',\n",
       " 'input_tokens': 256,\n",
       " 'output_tokens': 111}"
      ]
     },
     "execution_count": 22,
     "metadata": {},
     "output_type": "execute_result"
    }
   ],
   "source": [
    "response.json()"
   ]
  },
  {
   "cell_type": "code",
   "execution_count": 11,
   "metadata": {},
   "outputs": [],
   "source": [
    "import json\n",
    "a = '{\"customer_intention\": \"\", \"reply\": \"ds\"}'\n",
    "c = json.loads(a)"
   ]
  },
  {
   "cell_type": "code",
   "execution_count": 14,
   "metadata": {},
   "outputs": [
    {
     "data": {
      "text/plain": [
       "'ds'"
      ]
     },
     "execution_count": 14,
     "metadata": {},
     "output_type": "execute_result"
    }
   ],
   "source": [
    "c['reply']"
   ]
  },
  {
   "cell_type": "markdown",
   "metadata": {},
   "source": [
    "# 测试对话效果"
   ]
  },
  {
   "cell_type": "markdown",
   "metadata": {
    "tags": []
   },
   "source": [
    "## 获取对话记录"
   ]
  },
  {
   "cell_type": "code",
   "execution_count": 20,
   "metadata": {},
   "outputs": [],
   "source": [
    "from utils.connect_mongo import _init_mongo_connect\n",
    "import json"
   ]
  },
  {
   "cell_type": "code",
   "execution_count": 2,
   "metadata": {},
   "outputs": [],
   "source": [
    "db_name = 'smart_salesman'\n",
    "db_test = _init_mongo_connect(db_name)\n",
    "dialogue_test = db_test['user_dialogue_db']"
   ]
  },
  {
   "cell_type": "code",
   "execution_count": 4,
   "metadata": {},
   "outputs": [],
   "source": [
    "chat_ids = dialogue_test.distinct('chat_id')"
   ]
  },
  {
   "cell_type": "code",
   "execution_count": 5,
   "metadata": {
    "collapsed": true,
    "jupyter": {
     "outputs_hidden": true
    },
    "tags": []
   },
   "outputs": [
    {
     "data": {
      "text/plain": [
       "['6pdPwSrH',\n",
       " '882rJh9j',\n",
       " '8puWPCEh',\n",
       " 'G67T1gsq',\n",
       " 'GsG8q8Bp',\n",
       " 'Je7osb32',\n",
       " 'K2iWWAOM',\n",
       " 'Mb2Tn81V',\n",
       " 'bU4IHeow',\n",
       " 'test_1',\n",
       " 'uUjAxQMZ',\n",
       " 'zWm9obmr',\n",
       " 'zi2SuY6Y']"
      ]
     },
     "execution_count": 5,
     "metadata": {},
     "output_type": "execute_result"
    }
   ],
   "source": [
    "chat_ids"
   ]
  },
  {
   "cell_type": "code",
   "execution_count": 15,
   "metadata": {},
   "outputs": [
    {
     "data": {
      "text/plain": [
       "['_id', 'chat_id', 'user_input', 'model_reply', 'insert_time']"
      ]
     },
     "execution_count": 15,
     "metadata": {},
     "output_type": "execute_result"
    }
   ],
   "source": [
    "list(dialogue_test.find_one().keys())"
   ]
  },
  {
   "cell_type": "code",
   "execution_count": 23,
   "metadata": {},
   "outputs": [],
   "source": [
    "target_chat_id = 'M5DfcyeW'\n",
    "dialogue_record = dialogue_test.find({'chat_id': target_chat_id})\n",
    "dialogue_res = []\n",
    "for dialogue in dialogue_record:\n",
    "    user_input = dialogue.get('user_input', 'no_input')\n",
    "    # model_reply_with_intention = dialogue.get('model_reply', \"no_reply\")\n",
    "    model_reply = json.loads(dialogue.get('model_reply', 'no_reply'))['reply']\n",
    "    dialogue_res.append([{\"role\": \"user\", \"content\": user_input}, {\"role\": \"assistant\", \"content\": model_reply}])"
   ]
  },
  {
   "cell_type": "code",
   "execution_count": 24,
   "metadata": {},
   "outputs": [
    {
     "data": {
      "text/plain": [
       "[[{'role': 'user', 'content': '你好'},\n",
       "  {'role': 'assistant', 'content': '你好！很高兴见到你，有什么我可以帮助你的吗？'}],\n",
       " [{'role': 'user', 'content': '有没有瘦脸相关的'},\n",
       "  {'role': 'assistant',\n",
       "   'content': '当然可以！我们有多种瘦脸产品可供选择，包括面部按摩器、瘦脸精华和面膜等。请问您对哪种产品感兴趣，或者有什么具体的需求吗？我很乐意为您提供更多信息！'}],\n",
       " [{'role': 'user', 'content': '没有打过\\\\\\\\n我是女生，30不到一点'},\n",
       "  {'role': 'assistant',\n",
       "   'content': '很高兴认识你！作为一名30岁左右的女生，你可能对护肤和美容产品有一些关注。请问你对瘦脸产品还是其他美容产品感兴趣呢？我可以为你推荐一些适合你的产品！'}],\n",
       " [{'role': 'user', 'content': '你能先给我简单介绍一下吗'},\n",
       "  {'role': 'assistant',\n",
       "   'content': '当然可以！我们提供多种美容和护肤产品，包括瘦脸相关的产品，如面部按摩器、瘦脸精华和面膜等。每种产品都有其独特的功效，适合不同的需求。请问您对哪种产品感兴趣，或者有什么具体的需求吗？我很乐意为您提供更多详细信息！'}],\n",
       " [{'role': 'user', 'content': '瘦脸吧'},\n",
       "  {'role': 'assistant',\n",
       "   'content': '当然可以！瘦脸吧是一个很受欢迎的话题。我们有多种瘦脸产品可供选择，比如面部按摩器、瘦脸精华和面膜等。每种产品都有其独特的功效，能够帮助你实现瘦脸的效果。请问你对哪种产品感兴趣，或者有什么具体的需求吗？我很乐意为你提供更多详细信息！'}],\n",
       " [{'role': 'user', 'content': '线雕吧'},\n",
       "  {'role': 'assistant',\n",
       "   'content': '线雕是一种非常受欢迎的美容技术，可以帮助提升面部轮廓和改善皮肤松弛。它通过在皮肤下植入可吸收的线材，刺激胶原蛋白的生成，从而达到紧致和提升的效果。请问您对线雕有什么具体的问题，或者想了解更多的细节吗？我很乐意为您提供更多信息！'}],\n",
       " [{'role': 'user', 'content': '我能先留个联系方式吗'},\n",
       "  {'role': 'assistant',\n",
       "   'content': '当然可以！请您告诉我您的联系方式，我会尽快与您联系，提供更多您感兴趣的产品信息和服务。如果您有其他问题，也可以随时告诉我！'}],\n",
       " [{'role': 'user', 'content': '李，19283858381'},\n",
       "  {'role': 'assistant',\n",
       "   'content': '当然可以，李！请您确认一下您的联系方式，我会尽快与您联系，提供更多您感兴趣的产品信息和服务。如果您有其他问题，也可以随时告诉我！'}],\n",
       " [{'role': 'user', 'content': '确认了'},\n",
       "  {'role': 'assistant',\n",
       "   'content': '谢谢您确认了联系方式，李！我会尽快与您联系，提供更多您感兴趣的产品信息和服务。如果您有其他问题或者需要进一步的帮助，请随时告诉我！期待与您沟通！'}]]"
      ]
     },
     "execution_count": 24,
     "metadata": {},
     "output_type": "execute_result"
    }
   ],
   "source": [
    "dialogue_res"
   ]
  }
 ],
 "metadata": {
  "kernelspec": {
   "display_name": "sjj_kernel",
   "language": "python",
   "name": "sjj"
  },
  "language_info": {
   "codemirror_mode": {
    "name": "ipython",
    "version": 3
   },
   "file_extension": ".py",
   "mimetype": "text/x-python",
   "name": "python",
   "nbconvert_exporter": "python",
   "pygments_lexer": "ipython3",
   "version": "3.11.10"
  }
 },
 "nbformat": 4,
 "nbformat_minor": 4
}
