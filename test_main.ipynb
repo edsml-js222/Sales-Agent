{
 "cells": [
  {
   "cell_type": "code",
   "execution_count": 15,
   "metadata": {},
   "outputs": [
    {
     "name": "stderr",
     "output_type": "stream",
     "text": [
      "/home/enbrands/miniconda3/envs/xiao/lib/python3.8/site-packages/requests/__init__.py:102: RequestsDependencyWarning: urllib3 (1.26.14) or chardet (5.2.0)/charset_normalizer (2.0.4) doesn't match a supported version!\n",
      "  warnings.warn(\"urllib3 ({}) or chardet ({})/charset_normalizer ({}) doesn't match a supported \"\n"
     ]
    }
   ],
   "source": [
    "import requests\n",
    "import json"
   ]
  },
  {
   "cell_type": "markdown",
   "metadata": {},
   "source": [
    "# 测试话术存储模块"
   ]
  },
  {
   "cell_type": "code",
   "execution_count": 18,
   "metadata": {},
   "outputs": [],
   "source": [
    "url = \"http://121.201.110.83:30504/sales_template_save\"\n",
    "post_data = {\n",
    "    \"industry_id\": \"默认\",\n",
    "    \"template_id\": \"默认\",\n",
    "    \"template_content\": \"默认销售\"\n",
    "}\n",
    "json_post_data = json.dumps(post_data)\n",
    "response = requests.post(url, data=json_post_data)\n"
   ]
  },
  {
   "cell_type": "code",
   "execution_count": 19,
   "metadata": {},
   "outputs": [
    {
     "data": {
      "text/plain": [
       "{'status': 200, 'msg': 'success'}"
      ]
     },
     "execution_count": 19,
     "metadata": {},
     "output_type": "execute_result"
    }
   ],
   "source": [
    "response.json()"
   ]
  },
  {
   "cell_type": "markdown",
   "metadata": {},
   "source": [
    "# 测试模型回复模块"
   ]
  },
  {
   "cell_type": "code",
   "execution_count": 21,
   "metadata": {},
   "outputs": [],
   "source": [
    "url = \"http://121.201.110.83:30504/model_reply\"\n",
    "post_data = {\n",
    "    \"industry_id\": \"医美\",\n",
    "    \"template_id\": \"project_1\",\n",
    "    \"chat_id\": \"test_1\",\n",
    "    \"user_input\": \"想问问皮肤相关的有啥项目\"\n",
    "}\n",
    "json_post_data = json.dumps(post_data)\n",
    "response = requests.post(url, data=json_post_data)\n"
   ]
  },
  {
   "cell_type": "code",
   "execution_count": 22,
   "metadata": {},
   "outputs": [
    {
     "data": {
      "text/plain": [
       "{'status': 200,\n",
       " 'msg': 'Model reply success',\n",
       " 'model_reply': '{\"customer_intention\": \"客户想了解皮肤相关的医美项目\", \"reply\": \"您好！很高兴您对皮肤相关的项目感兴趣。我们提供多种皮肤护理和改善的方案，比如水光针、激光美容、化学换肤、微针美容等。每个项目都有其独特的效果和适应人群，您可以告诉我您的具体需求，比如想改善的皮肤问题，我会为您推荐最合适的项目。期待您的回复！\"}',\n",
       " 'input_tokens': 256,\n",
       " 'output_tokens': 111}"
      ]
     },
     "execution_count": 22,
     "metadata": {},
     "output_type": "execute_result"
    }
   ],
   "source": [
    "response.json()"
   ]
  },
  {
   "cell_type": "code",
   "execution_count": 11,
   "metadata": {},
   "outputs": [],
   "source": [
    "import json\n",
    "a = '{\"customer_intention\": \"\", \"reply\": \"ds\"}'\n",
    "c = json.loads(a)"
   ]
  },
  {
   "cell_type": "code",
   "execution_count": 14,
   "metadata": {},
   "outputs": [
    {
     "data": {
      "text/plain": [
       "'ds'"
      ]
     },
     "execution_count": 14,
     "metadata": {},
     "output_type": "execute_result"
    }
   ],
   "source": [
    "c['reply']"
   ]
  },
  {
   "cell_type": "code",
   "execution_count": 5,
   "metadata": {},
   "outputs": [
    {
     "name": "stdout",
     "output_type": "stream",
     "text": [
      "Running on local URL:  http://127.0.0.1:7860\n",
      "\n",
      "To create a public link, set `share=True` in `launch()`.\n"
     ]
    },
    {
     "data": {
      "text/html": [
       "<div><iframe src=\"http://127.0.0.1:7860/\" width=\"100%\" height=\"500\" allow=\"autoplay; camera; microphone; clipboard-read; clipboard-write;\" frameborder=\"0\" allowfullscreen></iframe></div>"
      ],
      "text/plain": [
       "<IPython.core.display.HTML object>"
      ]
     },
     "metadata": {},
     "output_type": "display_data"
    },
    {
     "data": {
      "text/plain": []
     },
     "execution_count": 5,
     "metadata": {},
     "output_type": "execute_result"
    },
    {
     "name": "stderr",
     "output_type": "stream",
     "text": [
      "/opt/anaconda3/lib/python3.11/site-packages/gradio/analytics.py:106: UserWarning: IMPORTANT: You are using gradio version 4.38.1, however version 4.44.1 is available, please upgrade. \n",
      "--------\n",
      "  warnings.warn(\n"
     ]
    }
   ],
   "source": [
    "import gradio as gr\n",
    "# 自定义 CSS\n",
    "custom_css = \"\"\"\n",
    "#confirm-modal {\n",
    "    display: none;\n",
    "    position: fixed;\n",
    "    z-index: 1000;\n",
    "    left: 0;\n",
    "    top: 0;\n",
    "    width: 100%;\n",
    "    height: 100%;\n",
    "    background-color: rgba(0,0,0,0.5);\n",
    "}\n",
    "\n",
    ".modal-content {\n",
    "    background-color: white;\n",
    "    margin: 15% auto;\n",
    "    padding: 20px;\n",
    "    border-radius: 8px;\n",
    "    width: 80%;\n",
    "    max-width: 500px;\n",
    "}\n",
    "\n",
    ".modal-buttons {\n",
    "    margin-top: 20px;\n",
    "    text-align: right;\n",
    "    gap: 8px;\n",
    "    display: flex;\n",
    "    justify-content: flex-end;\n",
    "}\n",
    "\"\"\"\n",
    "\n",
    "# 自定义 JavaScript\n",
    "custom_js = \"\"\"\n",
    "function showConfirmModal(industry_id, template_id) {\n",
    "    const modal = document.getElementById('confirm-modal');\n",
    "    const confirmText = document.getElementById('confirm-text');\n",
    "    confirmText.textContent = `确定要保存话术模版到:\\n行业id: ${industry_id}\\n模板id: ${template_id}吗？`;\n",
    "    modal.style.display = 'block';\n",
    "}\n",
    "\n",
    "function hideConfirmModal() {\n",
    "    document.getElementById('confirm-modal').style.display = 'none';\n",
    "}\n",
    "\n",
    "// 点击模态框外部时关闭\n",
    "window.onclick = function(event) {\n",
    "    const modal = document.getElementById('confirm-modal');\n",
    "    if (event.target === modal) {\n",
    "        hideConfirmModal();\n",
    "    }\n",
    "}\n",
    "\"\"\"\n",
    "\n",
    "# 添加模态框的 HTML\n",
    "modal_html = \"\"\"\n",
    "<div id=\"confirm-modal\">\n",
    "    <div class=\"modal-content\">\n",
    "        <h3>确认保存</h3>\n",
    "        <p id=\"confirm-text\"></p>\n",
    "        <div class=\"modal-buttons\">\n",
    "            <button onclick=\"gradioSubmit(event)\" id=\"confirm-yes\">确认</button>\n",
    "            <button onclick=\"hideConfirmModal()\" id=\"confirm-no\">取消</button>\n",
    "        </div>\n",
    "    </div>\n",
    "</div>\n",
    "\"\"\"\n",
    "\n",
    "with gr.Blocks(css=custom_css, js=custom_js) as demo1:\n",
    "    gr.HTML(modal_html)\n",
    "    \n",
    "    # ... 其他界面元素 ...\n",
    "    \n",
    "    with gr.Row():\n",
    "        with gr.Column(scale=1):\n",
    "            save_btn = gr.Button(\"💾存入数据库\", elem_id=\"save-btn\")\n",
    "            \n",
    "            # 保存确认函数\n",
    "            def save_with_confirmation():\n",
    "                return gr.Javascript(f'showConfirmModal(\"industry_id\", \"template_id\")')\n",
    "            \n",
    "            # 绑定事件\n",
    "            save_btn.click(\n",
    "                fn=save_with_confirmation,\n",
    "                inputs=None,\n",
    "                outputs=None\n",
    "            )\n",
    "demo1.launch()"
   ]
  },
  {
   "cell_type": "code",
   "execution_count": 6,
   "metadata": {},
   "outputs": [
    {
     "name": "stdout",
     "output_type": "stream",
     "text": [
      "Closing server running on port: 7860\n"
     ]
    }
   ],
   "source": [
    "demo1.close()"
   ]
  },
  {
   "cell_type": "code",
   "execution_count": 1,
   "metadata": {},
   "outputs": [
    {
     "name": "stdout",
     "output_type": "stream",
     "text": [
      "Running on local URL:  http://127.0.0.1:7860\n",
      "\n",
      "To create a public link, set `share=True` in `launch()`.\n"
     ]
    },
    {
     "data": {
      "text/html": [
       "<div><iframe src=\"http://127.0.0.1:7860/\" width=\"100%\" height=\"500\" allow=\"autoplay; camera; microphone; clipboard-read; clipboard-write;\" frameborder=\"0\" allowfullscreen></iframe></div>"
      ],
      "text/plain": [
       "<IPython.core.display.HTML object>"
      ]
     },
     "metadata": {},
     "output_type": "display_data"
    },
    {
     "data": {
      "text/plain": []
     },
     "execution_count": 1,
     "metadata": {},
     "output_type": "execute_result"
    },
    {
     "name": "stderr",
     "output_type": "stream",
     "text": [
      "/opt/anaconda3/lib/python3.11/site-packages/gradio/analytics.py:106: UserWarning: IMPORTANT: You are using gradio version 4.38.1, however version 4.44.1 is available, please upgrade. \n",
      "--------\n",
      "  warnings.warn(\n"
     ]
    }
   ],
   "source": [
    "import gradio as gr\n",
    "\n",
    "def welcome(name):\n",
    "    return f\"Welcome to Gradio, {name}!\"\n",
    "\n",
    "js = \"\"\"\n",
    "function createGradioAnimation() {\n",
    "    var container = document.createElement('div');\n",
    "    container.id = 'gradio-animation';\n",
    "    container.style.fontSize = '2em';\n",
    "    container.style.fontWeight = 'bold';\n",
    "    container.style.textAlign = 'center';\n",
    "    container.style.marginBottom = '20px';\n",
    "\n",
    "    var text = 'Welcome to Gradio!';\n",
    "    for (var i = 0; i < text.length; i++) {\n",
    "        (function(i){\n",
    "            setTimeout(function(){\n",
    "                var letter = document.createElement('span');\n",
    "                letter.style.opacity = '0';\n",
    "                letter.style.transition = 'opacity 0.5s';\n",
    "                letter.innerText = text[i];\n",
    "\n",
    "                container.appendChild(letter);\n",
    "\n",
    "                setTimeout(function() {\n",
    "                    letter.style.opacity = '1';\n",
    "                }, 50);\n",
    "            }, i * 250);\n",
    "        })(i);\n",
    "    }\n",
    "\n",
    "    var gradioContainer = document.querySelector('.gradio-container');\n",
    "    gradioContainer.insertBefore(container, gradioContainer.firstChild);\n",
    "\n",
    "    return 'Animation created';\n",
    "}\n",
    "\"\"\"\n",
    "with gr.Blocks(js=js) as demo:\n",
    "    inp = gr.Textbox(placeholder=\"What is your name?\")\n",
    "    out = gr.Textbox()\n",
    "    inp.change(welcome, inp, out)\n",
    "\n",
    "demo.launch()\n"
   ]
  },
  {
   "cell_type": "code",
   "execution_count": 2,
   "metadata": {},
   "outputs": [
    {
     "name": "stdout",
     "output_type": "stream",
     "text": [
      "Closing server running on port: 7860\n"
     ]
    }
   ],
   "source": [
    "demo.close()"
   ]
  }
 ],
 "metadata": {
  "kernelspec": {
   "display_name": "base",
   "language": "python",
   "name": "python3"
  },
  "language_info": {
   "codemirror_mode": {
    "name": "ipython",
    "version": 3
   },
   "file_extension": ".py",
   "mimetype": "text/x-python",
   "name": "python",
   "nbconvert_exporter": "python",
   "pygments_lexer": "ipython3",
   "version": "3.11.7"
  }
 },
 "nbformat": 4,
 "nbformat_minor": 4
}
