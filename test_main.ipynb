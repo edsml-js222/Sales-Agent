{
 "cells": [
  {
   "cell_type": "code",
   "execution_count": 15,
   "metadata": {},
   "outputs": [
    {
     "name": "stderr",
     "output_type": "stream",
     "text": [
      "/home/enbrands/miniconda3/envs/xiao/lib/python3.8/site-packages/requests/__init__.py:102: RequestsDependencyWarning: urllib3 (1.26.14) or chardet (5.2.0)/charset_normalizer (2.0.4) doesn't match a supported version!\n",
      "  warnings.warn(\"urllib3 ({}) or chardet ({})/charset_normalizer ({}) doesn't match a supported \"\n"
     ]
    }
   ],
   "source": [
    "import requests\n",
    "import json"
   ]
  },
  {
   "cell_type": "markdown",
   "metadata": {},
   "source": [
    "# 测试话术存储模块"
   ]
  },
  {
   "cell_type": "code",
   "execution_count": 18,
   "metadata": {},
   "outputs": [],
   "source": [
    "url = \"http://121.201.110.83:30504/sales_template_save\"\n",
    "post_data = {\n",
    "    \"industry_id\": \"默认\",\n",
    "    \"template_id\": \"默认\",\n",
    "    \"template_content\": \"默认销售\"\n",
    "}\n",
    "json_post_data = json.dumps(post_data)\n",
    "response = requests.post(url, data=json_post_data)\n"
   ]
  },
  {
   "cell_type": "code",
   "execution_count": 19,
   "metadata": {},
   "outputs": [
    {
     "data": {
      "text/plain": [
       "{'status': 200, 'msg': 'success'}"
      ]
     },
     "execution_count": 19,
     "metadata": {},
     "output_type": "execute_result"
    }
   ],
   "source": [
    "response.json()"
   ]
  },
  {
   "cell_type": "markdown",
   "metadata": {},
   "source": [
    "# 测试模型回复模块"
   ]
  },
  {
   "cell_type": "code",
   "execution_count": 21,
   "metadata": {},
   "outputs": [],
   "source": [
    "url = \"http://121.201.110.83:30504/model_reply\"\n",
    "post_data = {\n",
    "    \"industry_id\": \"医美\",\n",
    "    \"template_id\": \"project_1\",\n",
    "    \"chat_id\": \"test_1\",\n",
    "    \"user_input\": \"想问问皮肤相关的有啥项目\"\n",
    "}\n",
    "json_post_data = json.dumps(post_data)\n",
    "response = requests.post(url, data=json_post_data)\n"
   ]
  },
  {
   "cell_type": "code",
   "execution_count": 22,
   "metadata": {},
   "outputs": [
    {
     "data": {
      "text/plain": [
       "{'status': 200,\n",
       " 'msg': 'Model reply success',\n",
       " 'model_reply': '{\"customer_intention\": \"客户想了解皮肤相关的医美项目\", \"reply\": \"您好！很高兴您对皮肤相关的项目感兴趣。我们提供多种皮肤护理和改善的方案，比如水光针、激光美容、化学换肤、微针美容等。每个项目都有其独特的效果和适应人群，您可以告诉我您的具体需求，比如想改善的皮肤问题，我会为您推荐最合适的项目。期待您的回复！\"}',\n",
       " 'input_tokens': 256,\n",
       " 'output_tokens': 111}"
      ]
     },
     "execution_count": 22,
     "metadata": {},
     "output_type": "execute_result"
    }
   ],
   "source": [
    "response.json()"
   ]
  },
  {
   "cell_type": "code",
   "execution_count": 11,
   "metadata": {},
   "outputs": [],
   "source": [
    "import json\n",
    "a = '{\"customer_intention\": \"\", \"reply\": \"ds\"}'\n",
    "c = json.loads(a)"
   ]
  },
  {
   "cell_type": "code",
   "execution_count": 14,
   "metadata": {},
   "outputs": [
    {
     "data": {
      "text/plain": [
       "'ds'"
      ]
     },
     "execution_count": 14,
     "metadata": {},
     "output_type": "execute_result"
    }
   ],
   "source": [
    "c['reply']"
   ]
  },
  {
   "cell_type": "markdown",
   "metadata": {},
   "source": [
    "# 测试对话效果"
   ]
  },
  {
   "cell_type": "markdown",
   "metadata": {
    "tags": []
   },
   "source": [
    "## 获取对话记录"
   ]
  },
  {
   "cell_type": "code",
   "execution_count": 25,
   "metadata": {},
   "outputs": [],
   "source": [
    "from utils.connect_mongo import _init_mongo_connect\n",
    "import json"
   ]
  },
  {
   "cell_type": "code",
   "execution_count": 36,
   "metadata": {},
   "outputs": [],
   "source": [
    "db_name = 'smart_salesman'\n",
    "db_test = _init_mongo_connect(db_name)\n",
    "dialogue_test = db_test['user_dialogue_db']"
   ]
  },
  {
   "cell_type": "code",
   "execution_count": 37,
   "metadata": {},
   "outputs": [],
   "source": [
    "chat_ids = dialogue_test.distinct('chat_id')"
   ]
  },
  {
   "cell_type": "code",
   "execution_count": 40,
   "metadata": {
    "collapsed": true,
    "jupyter": {
     "outputs_hidden": true
    },
    "tags": []
   },
   "outputs": [
    {
     "data": {
      "text/plain": [
       "['6pdPwSrH',\n",
       " '7HuGI87G',\n",
       " '882rJh9j',\n",
       " '8puWPCEh',\n",
       " '9my1223u',\n",
       " 'A4nQ86vt',\n",
       " 'Cu9Dtydf',\n",
       " 'G67T1gsq',\n",
       " 'GsG8q8Bp',\n",
       " 'Je7osb32',\n",
       " 'K2iWWAOM',\n",
       " 'M5DfcyeW',\n",
       " 'Mb2Tn81V',\n",
       " 'QJ0HBMpG',\n",
       " 'ZIZf5OHx',\n",
       " 'bU4IHeow',\n",
       " 'ffsi4Wdc',\n",
       " 'kM9FzbM7',\n",
       " 'q3n4954a',\n",
       " 'r1k72N5X',\n",
       " 'test_1',\n",
       " 'uUjAxQMZ',\n",
       " 'wzOZiNDt',\n",
       " 'zWm9obmr',\n",
       " 'zi2SuY6Y']"
      ]
     },
     "execution_count": 40,
     "metadata": {},
     "output_type": "execute_result"
    }
   ],
   "source": [
    "chat_ids"
   ]
  },
  {
   "cell_type": "code",
   "execution_count": 15,
   "metadata": {},
   "outputs": [
    {
     "data": {
      "text/plain": [
       "['_id', 'chat_id', 'user_input', 'model_reply', 'insert_time']"
      ]
     },
     "execution_count": 15,
     "metadata": {},
     "output_type": "execute_result"
    }
   ],
   "source": [
    "list(dialogue_test.find_one().keys())"
   ]
  },
  {
   "cell_type": "code",
   "execution_count": 45,
   "metadata": {},
   "outputs": [],
   "source": [
    "target_chat_id = 'dFxp6zoU'\n",
    "dialogue_record = dialogue_test.find({'chat_id': target_chat_id})\n",
    "dialogue_res = []\n",
    "for dialogue in dialogue_record:\n",
    "    user_input = dialogue.get('user_input', 'no_input')\n",
    "    # model_reply_with_intention = dialogue.get('model_reply', \"no_reply\")\n",
    "    model_reply = json.loads(dialogue.get('model_reply', 'no_reply'))['reply']\n",
    "    dialogue_res.append([{\"role\": \"user\", \"content\": user_input}, {\"role\": \"assistant\", \"content\": model_reply}])"
   ]
  },
  {
   "cell_type": "code",
   "execution_count": 46,
   "metadata": {},
   "outputs": [
    {
     "data": {
      "text/plain": [
       "[[{'role': 'user', 'content': '你好'},\n",
       "  {'role': 'assistant',\n",
       "   'content': '你好！很高兴收到你的消息。请问你对我们的产品有什么具体的兴趣或者需求呢？我很乐意为你提供详细的信息！如果方便的话，可以告诉我你的名字和联系方式吗？这样我可以更好地帮助你。'}],\n",
       " [{'role': 'user', 'content': '有什么瘦脸的项目吗'},\n",
       "  {'role': 'assistant',\n",
       "   'content': '当然有的！我们提供多种瘦脸项目，包括注射瘦脸针、面部塑形和美容仪器等，能够帮助你实现理想的脸型。每个项目都有其独特的效果和适应人群，您对哪种方式比较感兴趣呢？如果方便的话，可以告诉我您的名字和联系方式吗？这样我可以为您提供更详细的信息和个性化的建议！'}],\n",
       " [{'role': 'user', 'content': '没啥特别感兴趣的，我先留个电话，回头来店里吧'},\n",
       "  {'role': 'assistant',\n",
       "   'content': '非常感谢你愿意留下电话！我理解有时候需要时间来考虑。为了更好地为你提供服务，能否请你告诉我你的名字呢？这样我可以在你来店里时为你准备一些个性化的建议和信息。如果你有任何问题或者需要了解的项目，随时都可以联系我哦！期待你的光临！'}],\n",
       " [{'role': 'user', 'content': '姓李，电话是13928193842'},\n",
       "  {'role': 'assistant',\n",
       "   'content': '谢谢李先生/女士！很高兴您愿意留下联系方式。为了更好地为您提供服务，您是否有特别关注的瘦脸项目或者其他美容需求呢？这样我可以为您准备一些个性化的建议和信息，期待您的光临！如果您有任何问题，随时可以联系我哦！'}]]"
      ]
     },
     "execution_count": 46,
     "metadata": {},
     "output_type": "execute_result"
    }
   ],
   "source": [
    "dialogue_res"
   ]
  }
 ],
 "metadata": {
  "kernelspec": {
   "display_name": "sjj_kernel",
   "language": "python",
   "name": "sjj"
  },
  "language_info": {
   "codemirror_mode": {
    "name": "ipython",
    "version": 3
   },
   "file_extension": ".py",
   "mimetype": "text/x-python",
   "name": "python",
   "nbconvert_exporter": "python",
   "pygments_lexer": "ipython3",
   "version": "3.11.10"
  }
 },
 "nbformat": 4,
 "nbformat_minor": 4
}
