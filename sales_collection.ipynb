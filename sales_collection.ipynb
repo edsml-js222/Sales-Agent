{
 "cells": [
  {
   "cell_type": "markdown",
   "metadata": {},
   "source": [
    "# 销售话术生成收集"
   ]
  },
  {
   "cell_type": "code",
   "execution_count": null,
   "metadata": {},
   "outputs": [],
   "source": [
    "conversation_record = [\n",
    "    {\"customer\": \"你好\", \"sales\": \"您好\\n在的\\n这里是深圳艺星医疗整形医院\\n您是想咨询了解什么项目呢？\"},\n",
    "    {\"customer\": \"有没有瘦脸相关的\", \"sales\": \"有的呀您是男士女士\\n今年多大年龄呢?\\n瘦脸针是针对咬肌肥大的 一周见效 效果很好的\\n您之前有打过吗?\"},\n",
    "    {\"customer\": \"没有打过\\n我是女生，30不到一点\", \"sales\": \"您微信多少我加您，给您详细介绍下，我们现在瘦脸针做活动的\"},\n",
    "    {\"customer\": \"不是很想先加微信\", \"sales\": \"那可以给您预约过来实际面诊医生看看呢\"},\n",
    "    {\"customer\": \"你能先给我简单介绍一下吗\", \"sales\": \"您是哪里不了解呢\"},\n",
    "    {\"customer\": \"就有啥活动啥的\", \"sales\": \"我们现在特价580，预约来院还送一次光子嫩肤的\"},\n",
    "    {\"sales\": \"您是在深圳哪个区呢\", \"customer\": \"罗湖\"},\n",
    "    {\"sales\": \"那离我们很近的\\n您今天空吗，市区可以申请一次免费打车接您过来面诊医生实际了解下\\n面诊咨询都是免费的\\n评估下您咬肌情况，您对方案价格都满意再考虑做\", \"customer\": \"行，那我先考虑一下，今天如果方便了联系你\"},\n",
    "    {\"sales\": \"好的，那您留个联系方式\\n可以先加个您的微信 我把具体定位发给您 还有我们医院介绍\", \"customer\": \"好的，谢谢\"}\n",
    "]"
   ]
  },
  {
   "cell_type": "markdown",
   "metadata": {},
   "source": []
  },
  {
   "cell_type": "code",
   "execution_count": 1,
   "metadata": {},
   "outputs": [
    {
     "data": {
      "text/plain": [
       "['您好', '在的', '这里是深圳艺星医疗整形医院', '您是想咨询了解什么项目呢？']"
      ]
     },
     "execution_count": 1,
     "metadata": {},
     "output_type": "execute_result"
    }
   ],
   "source": [
    "\"您好\\\\n在的\\\\n这里是深圳艺星医疗整形医院\\\\n您是想咨询了解什么项目呢？\".split(\"\\\\n\")"
   ]
  },
  {
   "cell_type": "code",
   "execution_count": 3,
   "metadata": {},
   "outputs": [
    {
     "name": "stdout",
     "output_type": "stream",
     "text": [
      "您好\n",
      "在的\\n这里是深圳艺星医疗整形医院\\n您是想咨询了解什么项目呢？\n"
     ]
    }
   ],
   "source": [
    "print(\"您好\\n在的\\\\n这里是深圳艺星医疗整形医院\\\\n您是想咨询了解什么项目呢？\")"
   ]
  },
  {
   "cell_type": "code",
   "execution_count": null,
   "metadata": {},
   "outputs": [],
   "source": []
  }
 ],
 "metadata": {
  "kernelspec": {
   "display_name": "base",
   "language": "python",
   "name": "python3"
  },
  "language_info": {
   "codemirror_mode": {
    "name": "ipython",
    "version": 3
   },
   "file_extension": ".py",
   "mimetype": "text/x-python",
   "name": "python",
   "nbconvert_exporter": "python",
   "pygments_lexer": "ipython3",
   "version": "3.11.7"
  }
 },
 "nbformat": 4,
 "nbformat_minor": 2
}
