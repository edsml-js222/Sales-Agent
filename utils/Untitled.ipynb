{
 "cells": [
  {
   "cell_type": "code",
   "execution_count": 12,
   "id": "53657ecd-638e-41ac-8e8d-e3f8a349d47e",
   "metadata": {},
   "outputs": [],
   "source": [
    "from MilvusDB import Milvus"
   ]
  },
  {
   "cell_type": "code",
   "execution_count": 13,
   "id": "5fdced3e-f727-45f5-973e-7ef5aadca579",
   "metadata": {},
   "outputs": [],
   "source": [
    "# link to milvus server\n",
    "alias_name = \"smart_salesman\"\n",
    "milvus_client = Milvus(alias_name=alias_name)"
   ]
  },
  {
   "cell_type": "code",
   "execution_count": 14,
   "id": "5fd8e051-1a00-40e8-9346-a3fb9362f240",
   "metadata": {},
   "outputs": [
    {
     "data": {
      "text/plain": [
       "['xhshotnoteDBDB',\n",
       " 'defatultDB',\n",
       " 'wdDBDBDB',\n",
       " 'agentDB',\n",
       " 'xhs_0812DB',\n",
       " 'xhs_0808DBDB',\n",
       " 'wdDBDB',\n",
       " 'xhsboomDB',\n",
       " 'testdbDB',\n",
       " 'sales_smartmanDBDB',\n",
       " 'default',\n",
       " 'xhshotnoteDB',\n",
       " 'my_database',\n",
       " 'my_databaseDB',\n",
       " 'Knowledge_dbDB',\n",
       " 'xhs_0808DB',\n",
       " 'agentDBDB',\n",
       " 'smart_salesmanDB',\n",
       " 'sales_smartmanDB']"
      ]
     },
     "execution_count": 14,
     "metadata": {},
     "output_type": "execute_result"
    }
   ],
   "source": [
    "milvus_client.list_database()"
   ]
  },
  {
   "cell_type": "code",
   "execution_count": 18,
   "id": "a89c1edc-da5f-4536-966c-a9233107a4c1",
   "metadata": {},
   "outputs": [
    {
     "data": {
      "text/plain": [
       "[]"
      ]
     },
     "execution_count": 18,
     "metadata": {},
     "output_type": "execute_result"
    }
   ],
   "source": [
    "milvus_client.list_collections()"
   ]
  },
  {
   "cell_type": "code",
   "execution_count": 17,
   "id": "b3b3309d-f425-4703-9438-10931185af74",
   "metadata": {},
   "outputs": [
    {
     "data": {
      "text/plain": [
       "'Collection:medical_beauty_classic_template1 has been dropped!'"
      ]
     },
     "execution_count": 17,
     "metadata": {},
     "output_type": "execute_result"
    }
   ],
   "source": [
    "milvus_client.drop_collection(collection_name='medical_beauty_classic_template1')"
   ]
  }
 ],
 "metadata": {
  "kernelspec": {
   "display_name": "sjj_kernel",
   "language": "python",
   "name": "sjj"
  },
  "language_info": {
   "codemirror_mode": {
    "name": "ipython",
    "version": 3
   },
   "file_extension": ".py",
   "mimetype": "text/x-python",
   "name": "python",
   "nbconvert_exporter": "python",
   "pygments_lexer": "ipython3",
   "version": "3.11.10"
  }
 },
 "nbformat": 4,
 "nbformat_minor": 5
}
