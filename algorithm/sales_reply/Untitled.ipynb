{
 "cells": [
  {
   "cell_type": "code",
   "execution_count": 1,
   "id": "547a3b9a-4cdd-4b80-8b87-6d77cfbff90d",
   "metadata": {},
   "outputs": [],
   "source": [
    "project_name = 'smart_salesman'\n",
    "industry_id = '医美'\n",
    "brand_id = '美丽人生'\n",
    "template_id = '美丽人生经典模版1'"
   ]
  },
  {
   "cell_type": "code",
   "execution_count": 2,
   "id": "0a15584a-5667-46e4-bb4a-af3ac10698aa",
   "metadata": {},
   "outputs": [],
   "source": [
    "from get_sales_reply_strict import GetSalesReplyStrict"
   ]
  },
  {
   "cell_type": "code",
   "execution_count": 3,
   "id": "3439ff73-e9ef-4992-89b8-cc09ff6ea7b0",
   "metadata": {},
   "outputs": [],
   "source": [
    "sp_instance = GetSalesReplyStrict(project_name, industry_id, brand_id, template_id)"
   ]
  },
  {
   "cell_type": "code",
   "execution_count": 4,
   "id": "8697b511-fdf9-4f02-b227-22ec70b13bbf",
   "metadata": {},
   "outputs": [
    {
     "data": {
      "text/plain": [
       "'你好呀，我是美丽人生的客服小美，很高兴为您服务。'"
      ]
     },
     "execution_count": 4,
     "metadata": {},
     "output_type": "execute_result"
    }
   ],
   "source": [
    "sp_instance.template_content['1']"
   ]
  },
  {
   "cell_type": "code",
   "execution_count": 5,
   "id": "b6551d5d-64b5-4046-b1f9-5174d03c67db",
   "metadata": {},
   "outputs": [
    {
     "data": {
      "text/plain": [
       "[]"
      ]
     },
     "execution_count": 5,
     "metadata": {},
     "output_type": "execute_result"
    }
   ],
   "source": [
    "sp_instance.user_intention"
   ]
  },
  {
   "cell_type": "code",
   "execution_count": 6,
   "id": "97ea80e5-12f1-453c-a3d9-0abb30593af3",
   "metadata": {},
   "outputs": [
    {
     "name": "stdout",
     "output_type": "stream",
     "text": [
      "template_key: 14\n"
     ]
    },
    {
     "data": {
      "text/plain": [
       "'诶，您这边是对什么项目有兴趣嘛？方便留下您的姓名和联系方式嘛，我们会有专门的顾问给您答疑解惑哦。'"
      ]
     },
     "execution_count": 6,
     "metadata": {},
     "output_type": "execute_result"
    }
   ],
   "source": [
    "user_intention = \"结束对话\"\n",
    "user_input = \"再见\"\n",
    "sp_instance.get_sales_reply(user_intention, user_input)"
   ]
  },
  {
   "cell_type": "code",
   "execution_count": 10,
   "id": "61ff076e-a0ca-4a3b-8281-4d17c4b6c806",
   "metadata": {},
   "outputs": [
    {
     "data": {
      "text/plain": [
       "'结束对话'"
      ]
     },
     "execution_count": 10,
     "metadata": {},
     "output_type": "execute_result"
    }
   ],
   "source": [
    "import json\n",
    "json.loads(sp_instance.intention_match_llm(user_input))['intention']"
   ]
  }
 ],
 "metadata": {
  "kernelspec": {
   "display_name": "sjj_kernel",
   "language": "python",
   "name": "sjj"
  },
  "language_info": {
   "codemirror_mode": {
    "name": "ipython",
    "version": 3
   },
   "file_extension": ".py",
   "mimetype": "text/x-python",
   "name": "python",
   "nbconvert_exporter": "python",
   "pygments_lexer": "ipython3",
   "version": "3.11.10"
  }
 },
 "nbformat": 4,
 "nbformat_minor": 5
}
